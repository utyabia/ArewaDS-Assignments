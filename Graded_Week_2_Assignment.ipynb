{
  "cells": [
    {
      "cell_type": "markdown",
      "metadata": {
        "id": "RlGwXT9byVPa"
      },
      "source": [
        "### 1) Import the numpy package under the name np"
      ]
    },
    {
      "cell_type": "code",
      "execution_count": null,
      "metadata": {
        "id": "PGI1rQ-tyVPe"
      },
      "outputs": [],
      "source": [
        "import numpy as np"
      ]
    },
    {
      "cell_type": "markdown",
      "metadata": {
        "id": "uUhMC_vqyVPg"
      },
      "source": [
        "#### 2) Print the numpy version and the configuration"
      ]
    },
    {
      "cell_type": "code",
      "execution_count": null,
      "metadata": {
        "id": "YkYPro_eyVPh",
        "outputId": "c2ce9de3-df77-452c-e840-4bf9c824eaa5",
        "colab": {
          "base_uri": "https://localhost:8080/"
        }
      },
      "outputs": [
        {
          "output_type": "stream",
          "name": "stdout",
          "text": [
            "2.0.2\n"
          ]
        }
      ],
      "source": [
        "print(np.__version__)"
      ]
    },
    {
      "cell_type": "markdown",
      "metadata": {
        "id": "YGV7PVo5yVPi"
      },
      "source": [
        "#### 3) Create a null vector of size 10"
      ]
    },
    {
      "cell_type": "code",
      "execution_count": null,
      "metadata": {
        "id": "9mwV9sqSyVPi",
        "outputId": "8e75de49-1553-416a-9cd9-3862f3a666ff",
        "colab": {
          "base_uri": "https://localhost:8080/"
        }
      },
      "outputs": [
        {
          "output_type": "execute_result",
          "data": {
            "text/plain": [
              "array([0., 0., 0., 0., 0., 0., 0., 0., 0., 0.])"
            ]
          },
          "metadata": {},
          "execution_count": 3
        }
      ],
      "source": [
        "np.zeros(10)"
      ]
    },
    {
      "cell_type": "markdown",
      "metadata": {
        "id": "y2ww6AX4yVPj"
      },
      "source": [
        "#### 4) How to find the memory size of any array"
      ]
    },
    {
      "cell_type": "code",
      "execution_count": null,
      "metadata": {
        "id": "zP31B-ZvyVPk",
        "outputId": "bb95daa0-78f2-4c0b-e597-5a2132eaa94a",
        "colab": {
          "base_uri": "https://localhost:8080/"
        }
      },
      "outputs": [
        {
          "output_type": "stream",
          "name": "stdout",
          "text": [
            "32 Bytes\n"
          ]
        }
      ],
      "source": [
        "x = np.array([1,2,3,4])\n",
        "\n",
        "\n",
        "print(f\"{x.itemsize * x.size} Bytes\" )\n",
        "\n"
      ]
    },
    {
      "cell_type": "markdown",
      "metadata": {
        "id": "M5JlyyqgyVPp"
      },
      "source": [
        "#### 5) How to get the documentation of the numpy add function from the command line?"
      ]
    },
    {
      "cell_type": "code",
      "execution_count": null,
      "metadata": {
        "id": "nGiTgJClyVPq",
        "outputId": "19ddffc2-bc99-4e2f-fc9f-0fc7e4b36fbc",
        "colab": {
          "base_uri": "https://localhost:8080/"
        }
      },
      "outputs": [
        {
          "output_type": "stream",
          "name": "stdout",
          "text": [
            "Help on ufunc:\n",
            "\n",
            "add = <ufunc 'add'>\n",
            "    add(x1, x2, /, out=None, *, where=True, casting='same_kind', order='K', dtype=None, subok=True[, signature])\n",
            "\n",
            "    Add arguments element-wise.\n",
            "\n",
            "    Parameters\n",
            "    ----------\n",
            "    x1, x2 : array_like\n",
            "        The arrays to be added.\n",
            "        If ``x1.shape != x2.shape``, they must be broadcastable to a common\n",
            "        shape (which becomes the shape of the output).\n",
            "    out : ndarray, None, or tuple of ndarray and None, optional\n",
            "        A location into which the result is stored. If provided, it must have\n",
            "        a shape that the inputs broadcast to. If not provided or None,\n",
            "        a freshly-allocated array is returned. A tuple (possible only as a\n",
            "        keyword argument) must have length equal to the number of outputs.\n",
            "    where : array_like, optional\n",
            "        This condition is broadcast over the input. At locations where the\n",
            "        condition is True, the `out` array will be set to the ufunc result.\n",
            "        Elsewhere, the `out` array will retain its original value.\n",
            "        Note that if an uninitialized `out` array is created via the default\n",
            "        ``out=None``, locations within it where the condition is False will\n",
            "        remain uninitialized.\n",
            "    **kwargs\n",
            "        For other keyword-only arguments, see the\n",
            "        :ref:`ufunc docs <ufuncs.kwargs>`.\n",
            "\n",
            "    Returns\n",
            "    -------\n",
            "    add : ndarray or scalar\n",
            "        The sum of `x1` and `x2`, element-wise.\n",
            "        This is a scalar if both `x1` and `x2` are scalars.\n",
            "\n",
            "    Notes\n",
            "    -----\n",
            "    Equivalent to `x1` + `x2` in terms of array broadcasting.\n",
            "\n",
            "    Examples\n",
            "    --------\n",
            "    >>> np.add(1.0, 4.0)\n",
            "    5.0\n",
            "    >>> x1 = np.arange(9.0).reshape((3, 3))\n",
            "    >>> x2 = np.arange(3.0)\n",
            "    >>> np.add(x1, x2)\n",
            "    array([[  0.,   2.,   4.],\n",
            "           [  3.,   5.,   7.],\n",
            "           [  6.,   8.,  10.]])\n",
            "\n",
            "    The ``+`` operator can be used as a shorthand for ``np.add`` on ndarrays.\n",
            "\n",
            "    >>> x1 = np.arange(9.0).reshape((3, 3))\n",
            "    >>> x2 = np.arange(3.0)\n",
            "    >>> x1 + x2\n",
            "    array([[ 0.,  2.,  4.],\n",
            "           [ 3.,  5.,  7.],\n",
            "           [ 6.,  8., 10.]])\n",
            "\n",
            "None\n"
          ]
        }
      ],
      "source": [
        "print(help(np.add))"
      ]
    },
    {
      "cell_type": "markdown",
      "metadata": {
        "id": "IzvJdpODyVPu"
      },
      "source": [
        "#### 6) Create a null vector of size 10 but the fifth value which is 1"
      ]
    },
    {
      "cell_type": "code",
      "execution_count": null,
      "metadata": {
        "id": "wftQWeXByVPu",
        "outputId": "51d1cdc9-2f35-4214-c879-7d69117e2429",
        "colab": {
          "base_uri": "https://localhost:8080/"
        }
      },
      "outputs": [
        {
          "output_type": "stream",
          "name": "stdout",
          "text": [
            "[0. 0. 0. 0. 1. 0. 0. 0. 0. 0.]\n"
          ]
        }
      ],
      "source": [
        "x = np.zeros(10)\n",
        "\n",
        "x[4] = 1\n",
        "\n",
        "print(x)"
      ]
    },
    {
      "cell_type": "markdown",
      "metadata": {
        "id": "N2TpmcEeyVPv"
      },
      "source": [
        "#### 7) Create a vector with values ranging from 10 to 49"
      ]
    },
    {
      "cell_type": "code",
      "execution_count": null,
      "metadata": {
        "id": "l8r-xAGkyVPw",
        "outputId": "b348fe0c-13ae-43ac-e10a-eb32d4b5e369",
        "colab": {
          "base_uri": "https://localhost:8080/"
        }
      },
      "outputs": [
        {
          "output_type": "execute_result",
          "data": {
            "text/plain": [
              "array([10, 11, 12, 13, 14, 15, 16, 17, 18, 19, 20, 21, 22, 23, 24, 25, 26,\n",
              "       27, 28, 29, 30, 31, 32, 33, 34, 35, 36, 37, 38, 39, 40, 41, 42, 43,\n",
              "       44, 45, 46, 47, 48, 49])"
            ]
          },
          "metadata": {},
          "execution_count": 7
        }
      ],
      "source": [
        "np.arange(10,50)"
      ]
    },
    {
      "cell_type": "markdown",
      "metadata": {
        "id": "E7BiCV7zyVPw"
      },
      "source": [
        "#### 8) Reverse a vector (first element becomes last)"
      ]
    },
    {
      "cell_type": "code",
      "execution_count": null,
      "metadata": {
        "id": "wNcOgFjvyVPx",
        "outputId": "42656e3b-c3be-4c3e-d960-d8e273ca8e3a",
        "colab": {
          "base_uri": "https://localhost:8080/"
        }
      },
      "outputs": [
        {
          "output_type": "execute_result",
          "data": {
            "text/plain": [
              "array([9, 8, 7, 6, 5, 4, 3, 2, 1])"
            ]
          },
          "metadata": {},
          "execution_count": 8
        }
      ],
      "source": [
        "np.arange(1,10)[::-1]"
      ]
    },
    {
      "cell_type": "markdown",
      "metadata": {
        "id": "mQ1hG_eQyVPx"
      },
      "source": [
        "#### 9) Create a 3x3 matrix with values ranging from 0 to 8"
      ]
    },
    {
      "cell_type": "code",
      "execution_count": null,
      "metadata": {
        "id": "pI1k7MLyyVPx",
        "outputId": "998eec48-9bf2-41c7-d5fc-e7f622260114",
        "colab": {
          "base_uri": "https://localhost:8080/"
        }
      },
      "outputs": [
        {
          "output_type": "execute_result",
          "data": {
            "text/plain": [
              "array([[0, 1, 2],\n",
              "       [3, 4, 5],\n",
              "       [6, 7, 8]])"
            ]
          },
          "metadata": {},
          "execution_count": 9
        }
      ],
      "source": [
        "np.arange(0,9).reshape(3,3)"
      ]
    },
    {
      "cell_type": "markdown",
      "metadata": {
        "id": "on_14B0CyVPy"
      },
      "source": [
        "#### 10) Find indices of non-zero elements from [1,2,0,0,4,0]"
      ]
    },
    {
      "cell_type": "code",
      "execution_count": null,
      "metadata": {
        "id": "DKVqCiUUyVPz",
        "outputId": "fe157325-f287-47e4-fe91-26a74863b3ca",
        "colab": {
          "base_uri": "https://localhost:8080/"
        }
      },
      "outputs": [
        {
          "output_type": "execute_result",
          "data": {
            "text/plain": [
              "(array([0, 1, 4]),)"
            ]
          },
          "metadata": {},
          "execution_count": 10
        }
      ],
      "source": [
        "np.nonzero([1,2,0,0,4,0])"
      ]
    },
    {
      "cell_type": "markdown",
      "metadata": {
        "id": "O05FQbuJyVPz"
      },
      "source": [
        "#### 11) Create a 3x3 identity matrix"
      ]
    },
    {
      "cell_type": "code",
      "execution_count": null,
      "metadata": {
        "id": "suKBMvxIyVP0",
        "outputId": "d80ce1fc-906b-4f5b-dd37-44ee3aadb558",
        "colab": {
          "base_uri": "https://localhost:8080/"
        }
      },
      "outputs": [
        {
          "output_type": "execute_result",
          "data": {
            "text/plain": [
              "array([[1., 0., 0.],\n",
              "       [0., 1., 0.],\n",
              "       [0., 0., 1.]])"
            ]
          },
          "metadata": {},
          "execution_count": 11
        }
      ],
      "source": [
        "np.eye(3,3)"
      ]
    },
    {
      "cell_type": "markdown",
      "metadata": {
        "id": "qgyaYfQqyVP6"
      },
      "source": [
        "#### 12) Create a 3x3x3 array with random values"
      ]
    },
    {
      "cell_type": "code",
      "execution_count": null,
      "metadata": {
        "id": "0HSaNl-2yVP6",
        "outputId": "c616281c-4ead-4d96-9752-d0f2458c292a",
        "colab": {
          "base_uri": "https://localhost:8080/"
        }
      },
      "outputs": [
        {
          "output_type": "execute_result",
          "data": {
            "text/plain": [
              "array([[[0, 4, 4],\n",
              "        [2, 6, 7],\n",
              "        [5, 8, 0]],\n",
              "\n",
              "       [[8, 4, 7],\n",
              "        [1, 3, 0],\n",
              "        [0, 3, 0]],\n",
              "\n",
              "       [[6, 2, 0],\n",
              "        [1, 6, 4],\n",
              "        [4, 2, 6]]])"
            ]
          },
          "metadata": {},
          "execution_count": 12
        }
      ],
      "source": [
        "np.random.randint(0,9,size=27).reshape((3,3,3))"
      ]
    },
    {
      "cell_type": "markdown",
      "metadata": {
        "id": "VyfhGZBgyVP7"
      },
      "source": [
        "#### 13) Create a 10x10 array with random values and find the minimum and maximum values"
      ]
    },
    {
      "cell_type": "code",
      "execution_count": null,
      "metadata": {
        "id": "VP71I1G_yVP7",
        "outputId": "4b6d31c0-efc7-4a7d-e9a4-7f07e7a9e6dc",
        "colab": {
          "base_uri": "https://localhost:8080/"
        }
      },
      "outputs": [
        {
          "output_type": "stream",
          "name": "stdout",
          "text": [
            "[[61 63 57 15 77 93 89 48 20 39]\n",
            " [16 49  6 96 61 13 52 85 60 61]\n",
            " [ 2 87 97 84 12 67 11 21 86 42]\n",
            " [29 57 44 20 62 64 86 70 13 61]\n",
            " [69 51 62 14 41  3 83 67  8 34]\n",
            " [90 55 52 72 46 43 98 45 42 27]\n",
            " [65 61 73  7 78 99  2  6 30 28]\n",
            " [70 28 94 84 11  4 17 54 99 83]\n",
            " [74 21  3 92 69 75 34  0 16 70]\n",
            " [83 44 59 76 14 83 52 69 68 85]]\n",
            "min Value: 0\n",
            "max Value: 99\n"
          ]
        }
      ],
      "source": [
        "x = np.random.randint(0,100,size=100).reshape(10,10)\n",
        "\n",
        "print(x)\n",
        "\n",
        "print(\"min Value:\",x.min())\n",
        "print(\"max Value:\",x.max())"
      ]
    },
    {
      "cell_type": "markdown",
      "metadata": {
        "id": "GKTlhBfhyVP7"
      },
      "source": [
        "#### 14) Create a random vector of size 30 and find the mean value"
      ]
    },
    {
      "cell_type": "code",
      "execution_count": null,
      "metadata": {
        "id": "anIUvzAsyVP7",
        "outputId": "9f0a98d0-f24b-4cd1-c8ed-349c8d217c1a",
        "colab": {
          "base_uri": "https://localhost:8080/"
        }
      },
      "outputs": [
        {
          "output_type": "stream",
          "name": "stdout",
          "text": [
            "[0.31113759 0.93607563 0.35819082 0.28463614 0.73232906 0.86699263\n",
            " 0.27683528 0.30963066 0.18623323 0.32540202 0.1272591  0.82922654\n",
            " 0.77517557 0.5393155  0.57296417 0.86586078 0.69526283 0.25307022\n",
            " 0.36626939 0.88190215 0.57341111 0.68615976 0.59568954 0.42321115\n",
            " 0.49814284 0.20571108 0.63712623 0.73128308 0.85519532 0.01272088]\n",
            "Mean 0.523747343844704\n"
          ]
        }
      ],
      "source": [
        "x = np.random.random(size=30)\n",
        "\n",
        "print(x)\n",
        "print(\"Mean\", x.mean())"
      ]
    },
    {
      "cell_type": "markdown",
      "metadata": {
        "id": "eV-EJ7t8yVP8"
      },
      "source": [
        "#### 15) Create a 2d array with 1 on the border and 0 inside"
      ]
    },
    {
      "cell_type": "code",
      "execution_count": null,
      "metadata": {
        "id": "Y5bNTbVYyVP8",
        "outputId": "cf86cb00-5fad-419b-ffe2-d9420d9fe716",
        "colab": {
          "base_uri": "https://localhost:8080/"
        }
      },
      "outputs": [
        {
          "output_type": "stream",
          "name": "stdout",
          "text": [
            "[[1. 1. 1. 1. 1. 1. 1. 1. 1. 1.]\n",
            " [1. 0. 0. 0. 0. 0. 0. 0. 0. 1.]\n",
            " [1. 0. 0. 0. 0. 0. 0. 0. 0. 1.]\n",
            " [1. 0. 0. 0. 0. 0. 0. 0. 0. 1.]\n",
            " [1. 0. 0. 0. 0. 0. 0. 0. 0. 1.]\n",
            " [1. 0. 0. 0. 0. 0. 0. 0. 0. 1.]\n",
            " [1. 0. 0. 0. 0. 0. 0. 0. 0. 1.]\n",
            " [1. 0. 0. 0. 0. 0. 0. 0. 0. 1.]\n",
            " [1. 0. 0. 0. 0. 0. 0. 0. 0. 1.]\n",
            " [1. 1. 1. 1. 1. 1. 1. 1. 1. 1.]]\n"
          ]
        }
      ],
      "source": [
        "a = np.ones((10,10))\n",
        "\n",
        "a[1:-1,1:-1] = 0\n",
        "\n",
        "print(a)"
      ]
    },
    {
      "cell_type": "markdown",
      "metadata": {
        "id": "4wVtxaEbyVP8"
      },
      "source": [
        "#### 16} How to add a border (filled with 0's) around an existing array?"
      ]
    },
    {
      "cell_type": "code",
      "execution_count": null,
      "metadata": {
        "id": "I3CYZjvKyVP8",
        "outputId": "168b9a86-ba0c-495d-dd8f-63fcf0f770bc",
        "colab": {
          "base_uri": "https://localhost:8080/"
        }
      },
      "outputs": [
        {
          "output_type": "stream",
          "name": "stdout",
          "text": [
            "[[ 0  0  0  0  0  0  0  0  0  0]\n",
            " [ 0 72  7 26 51 21 19 85 12  0]\n",
            " [ 0 15 51 69 88 88 95 97 87  0]\n",
            " [ 0  8 64 62 23 58  2  1 61  0]\n",
            " [ 0 89 14 48 73 31 72  4 71  0]\n",
            " [ 0 58  4 69 25 44 77 27 53  0]\n",
            " [ 0 83 16 65 69 26 99 88  8  0]\n",
            " [ 0 23 10 68 24 28 38 58 84  0]\n",
            " [ 0 33 35 11 24 16 88 26 72  0]\n",
            " [ 0  0  0  0  0  0  0  0  0  0]]\n"
          ]
        }
      ],
      "source": [
        "np.random.seed(1)\n",
        "x = np.random.randint(1,100,size=100).reshape((10,10))\n",
        "\n",
        "x[0] = 0\n",
        "\n",
        "x[-1] = 0\n",
        "\n",
        "x[:,0] = 0\n",
        "x[:,-1] = 0\n",
        "print(x)\n"
      ]
    },
    {
      "cell_type": "markdown",
      "metadata": {
        "id": "-QhIVo9VyVP9"
      },
      "source": [
        "#### 17) What is the result of the following expression?\n",
        "\n",
        "```\n",
        "0 * np.nan\n",
        "np.nan == np.nan\n",
        "np.inf > np.nan\n",
        "np.nan - np.nan\n",
        "np.nan in set([np.nan])\n",
        "0.3 == 3 * 0.1\n",
        "```"
      ]
    },
    {
      "cell_type": "code",
      "execution_count": null,
      "metadata": {
        "id": "G1H3gc2eyVP9",
        "outputId": "56a79e44-8afd-42ae-8dc0-a8062fb877da",
        "colab": {
          "base_uri": "https://localhost:8080/"
        }
      },
      "outputs": [
        {
          "output_type": "stream",
          "name": "stdout",
          "text": [
            "0 * np.nan ==> nan\n",
            "np.nan == np.nan ==> False \n",
            "np.inf > np.nan ==> False \n",
            "np.nan - np.nan ==> nan \n",
            "np.nan in set([np.nan]) ==> True\n",
            "0.3 == 3 * 0.1 ==> False \n"
          ]
        }
      ],
      "source": [
        "print(\"0 * np.nan ==> {}\".format(0*np.nan))\n",
        "print(\"np.nan == np.nan ==> {} \".format(np.nan == np.nan))\n",
        "print(\"np.inf > np.nan ==> {} \".format(np.inf > np.nan))\n",
        "print(\"np.nan - np.nan ==> {} \".format(np.nan - np.nan))\n",
        "print(\"np.nan in set([np.nan]) ==> {}\".format(np.nan in set([np.nan])))\n",
        "print(\"0.3 == 3 * 0.1 ==> {} \".format(0.3 == 3 * 0.1))"
      ]
    },
    {
      "cell_type": "markdown",
      "metadata": {
        "id": "roRXUcImyVP9"
      },
      "source": [
        "#### 18) Create a 5x5 matrix with values 1,2,3,4 just below the diagonal"
      ]
    },
    {
      "cell_type": "code",
      "execution_count": null,
      "metadata": {
        "id": "-h-iBNfdyVP-",
        "outputId": "ebba5f0a-6cd1-4228-f3c3-76972e33a493",
        "colab": {
          "base_uri": "https://localhost:8080/"
        }
      },
      "outputs": [
        {
          "output_type": "execute_result",
          "data": {
            "text/plain": [
              "array([[0, 0, 0, 0, 0],\n",
              "       [1, 0, 0, 0, 0],\n",
              "       [0, 2, 0, 0, 0],\n",
              "       [0, 0, 3, 0, 0],\n",
              "       [0, 0, 0, 4, 0]])"
            ]
          },
          "metadata": {},
          "execution_count": 18
        }
      ],
      "source": [
        "np.diag(np.arange(1,5),k=-1)"
      ]
    },
    {
      "cell_type": "markdown",
      "metadata": {
        "id": "fQBXjCliyVP-"
      },
      "source": [
        "#### 19) Create a 8x8 matrix and fill it with a checkerboard pattern"
      ]
    },
    {
      "cell_type": "code",
      "execution_count": null,
      "metadata": {
        "id": "USt7TzleyVP-",
        "outputId": "3e69ecdc-6141-451d-ca56-9532624e26b7",
        "colab": {
          "base_uri": "https://localhost:8080/"
        }
      },
      "outputs": [
        {
          "output_type": "execute_result",
          "data": {
            "text/plain": [
              "array([[1., 0., 1., 0., 1., 0., 1., 0.],\n",
              "       [0., 1., 0., 1., 0., 1., 0., 1.],\n",
              "       [1., 0., 1., 0., 1., 0., 1., 0.],\n",
              "       [0., 1., 0., 1., 0., 1., 0., 1.],\n",
              "       [1., 0., 1., 0., 1., 0., 1., 0.],\n",
              "       [0., 1., 0., 1., 0., 1., 0., 1.],\n",
              "       [1., 0., 1., 0., 1., 0., 1., 0.],\n",
              "       [0., 1., 0., 1., 0., 1., 0., 1.]])"
            ]
          },
          "metadata": {},
          "execution_count": 19
        }
      ],
      "source": [
        "x = np.zeros((8,8))\n",
        "\n",
        "x[::2,::2] = 1\n",
        "\n",
        "x[1::2,1::2] = 1\n",
        "\n",
        "x"
      ]
    },
    {
      "cell_type": "markdown",
      "metadata": {
        "id": "mbbzZc78yVP_"
      },
      "source": [
        "#### 20) Consider a (6,7,8) shape array, what is the index (x,y,z) of the 100th element?"
      ]
    },
    {
      "cell_type": "code",
      "execution_count": null,
      "metadata": {
        "id": "fx3eERpFyVQS",
        "outputId": "2b49c565-b35d-4b42-eef3-b4cce0e06c88",
        "colab": {
          "base_uri": "https://localhost:8080/"
        }
      },
      "outputs": [
        {
          "output_type": "stream",
          "name": "stdout",
          "text": [
            "(np.int64(1), np.int64(5), np.int64(3))\n"
          ]
        }
      ],
      "source": [
        "print(np.unravel_index(99,(6,7,8)))"
      ]
    },
    {
      "cell_type": "markdown",
      "metadata": {
        "id": "RlEH4LkyyVQS"
      },
      "source": [
        "#### 21) Create a checkerboard 8x8 matrix using the tile function"
      ]
    },
    {
      "cell_type": "code",
      "execution_count": null,
      "metadata": {
        "id": "FEYwGPvKyVQT",
        "outputId": "838da2cd-ae6d-4d13-e92a-c651e42b14b9",
        "colab": {
          "base_uri": "https://localhost:8080/"
        }
      },
      "outputs": [
        {
          "output_type": "execute_result",
          "data": {
            "text/plain": [
              "array([[1, 0, 1, 0, 1, 0, 1, 0, 1, 0, 1, 0, 1, 0, 1, 0],\n",
              "       [0, 1, 0, 1, 0, 1, 0, 1, 0, 1, 0, 1, 0, 1, 0, 1],\n",
              "       [1, 0, 1, 0, 1, 0, 1, 0, 1, 0, 1, 0, 1, 0, 1, 0],\n",
              "       [0, 1, 0, 1, 0, 1, 0, 1, 0, 1, 0, 1, 0, 1, 0, 1],\n",
              "       [1, 0, 1, 0, 1, 0, 1, 0, 1, 0, 1, 0, 1, 0, 1, 0],\n",
              "       [0, 1, 0, 1, 0, 1, 0, 1, 0, 1, 0, 1, 0, 1, 0, 1],\n",
              "       [1, 0, 1, 0, 1, 0, 1, 0, 1, 0, 1, 0, 1, 0, 1, 0],\n",
              "       [0, 1, 0, 1, 0, 1, 0, 1, 0, 1, 0, 1, 0, 1, 0, 1],\n",
              "       [1, 0, 1, 0, 1, 0, 1, 0, 1, 0, 1, 0, 1, 0, 1, 0],\n",
              "       [0, 1, 0, 1, 0, 1, 0, 1, 0, 1, 0, 1, 0, 1, 0, 1],\n",
              "       [1, 0, 1, 0, 1, 0, 1, 0, 1, 0, 1, 0, 1, 0, 1, 0],\n",
              "       [0, 1, 0, 1, 0, 1, 0, 1, 0, 1, 0, 1, 0, 1, 0, 1],\n",
              "       [1, 0, 1, 0, 1, 0, 1, 0, 1, 0, 1, 0, 1, 0, 1, 0],\n",
              "       [0, 1, 0, 1, 0, 1, 0, 1, 0, 1, 0, 1, 0, 1, 0, 1],\n",
              "       [1, 0, 1, 0, 1, 0, 1, 0, 1, 0, 1, 0, 1, 0, 1, 0],\n",
              "       [0, 1, 0, 1, 0, 1, 0, 1, 0, 1, 0, 1, 0, 1, 0, 1]])"
            ]
          },
          "metadata": {},
          "execution_count": 21
        }
      ],
      "source": [
        "np.tile([[1,0],[0,1]],(8,8))"
      ]
    },
    {
      "cell_type": "markdown",
      "metadata": {
        "id": "OyrisIkZyVQT"
      },
      "source": [
        "#### 22) Normalize a 5x5 random matrix (Using Z-score Normalization)"
      ]
    },
    {
      "cell_type": "code",
      "execution_count": null,
      "metadata": {
        "id": "9a42KYyNyVQT",
        "outputId": "9d068368-cc04-4290-e0b1-20f6d6ca439e",
        "colab": {
          "base_uri": "https://localhost:8080/"
        }
      },
      "outputs": [
        {
          "output_type": "stream",
          "name": "stdout",
          "text": [
            "X Values\n",
            " [[4.17022005e-01 7.20324493e-01 1.14374817e-04 3.02332573e-01\n",
            "  1.46755891e-01]\n",
            " [9.23385948e-02 1.86260211e-01 3.45560727e-01 3.96767474e-01\n",
            "  5.38816734e-01]\n",
            " [4.19194514e-01 6.85219500e-01 2.04452250e-01 8.78117436e-01\n",
            "  2.73875932e-02]\n",
            " [6.70467510e-01 4.17304802e-01 5.58689828e-01 1.40386939e-01\n",
            "  1.98101489e-01]\n",
            " [8.00744569e-01 9.68261576e-01 3.13424178e-01 6.92322616e-01\n",
            "  8.76389152e-01]]\n",
            "\n",
            "X_Normalized Values\n",
            "\n",
            " [[-0.08166511  1.00240927 -1.57179097 -0.4915921  -1.04765972]\n",
            " [-1.24215993 -0.906462   -0.33708451 -0.15405956  0.35365788]\n",
            " [-0.07390005  0.87693577 -0.84143938  1.56639833 -1.47431007]\n",
            " [ 0.82420869 -0.08065433  0.42468899 -1.07042386 -0.86413849]\n",
            " [ 1.28984952  1.88859468 -0.45194809  0.90232398  1.56022104]]\n"
          ]
        }
      ],
      "source": [
        "np.random.seed(1)\n",
        "x = np.random.random(25).reshape(5,5)\n",
        "print(\"X Values\\n\",x)\n",
        "\n",
        "x_normaized = (x - np.mean(x)) / np.std(x)\n",
        "print(\"\\nX_Normalized Values\\n\\n\",x_normaized)"
      ]
    },
    {
      "cell_type": "markdown",
      "metadata": {
        "id": "OzJ0Drf2yVQU"
      },
      "source": [
        "#### 23) Create a custom dtype that describes a color as four unsigned bytes (RGBA)"
      ]
    },
    {
      "cell_type": "code",
      "execution_count": null,
      "metadata": {
        "id": "pNJAbz4FyVQU",
        "outputId": "fc87446d-2203-4ec1-f34c-d606ec2972a1",
        "colab": {
          "base_uri": "https://localhost:8080/"
        }
      },
      "outputs": [
        {
          "output_type": "execute_result",
          "data": {
            "text/plain": [
              "dtype([('r', 'u1'), ('g', 'u1'), ('b', 'u1'), ('a', 'u1')])"
            ]
          },
          "metadata": {},
          "execution_count": 23
        }
      ],
      "source": [
        "data_type = np.dtype([\n",
        "    ('r',np.ubyte),\n",
        "    ('g',np.ubyte),\n",
        "    ('b',np.ubyte),\n",
        "    ('a',np.ubyte)\n",
        "])\n",
        "\n",
        "data_type"
      ]
    },
    {
      "cell_type": "markdown",
      "metadata": {
        "id": "aPRjXH1ayVQV"
      },
      "source": [
        "#### 24) Multiply a 5x3 matrix by a 3x2 matrix (real matrix product)\n",
        "\n"
      ]
    },
    {
      "cell_type": "code",
      "execution_count": null,
      "metadata": {
        "id": "QPE0IVOZyVQV",
        "outputId": "5d9eec90-5ba2-4325-d3ba-6dff9bb20607",
        "colab": {
          "base_uri": "https://localhost:8080/"
        }
      },
      "outputs": [
        {
          "output_type": "execute_result",
          "data": {
            "text/plain": [
              "array([[74, 44],\n",
              "       [71, 49],\n",
              "       [55, 41],\n",
              "       [39, 27],\n",
              "       [40, 53]])"
            ]
          },
          "metadata": {},
          "execution_count": 24
        }
      ],
      "source": [
        "np.matmul(np.random.randint(1,10,size=15).reshape(5,3),(np.random.randint(1,10,size=6).reshape(3,2)))"
      ]
    },
    {
      "cell_type": "markdown",
      "metadata": {
        "id": "2eyrUzxAyVQW"
      },
      "source": [
        "#### 25) Given a 1D array, negate all elements which are between 3 and 8, in place."
      ]
    },
    {
      "cell_type": "code",
      "execution_count": null,
      "metadata": {
        "id": "MBzVFM7XyVQX",
        "outputId": "3e69a769-d500-4b89-8e79-09327e4b667d",
        "colab": {
          "base_uri": "https://localhost:8080/"
        }
      },
      "outputs": [
        {
          "output_type": "execute_result",
          "data": {
            "text/plain": [
              "array([ 1,  2,  3, -4, -5, -6, -7,  8,  9])"
            ]
          },
          "metadata": {},
          "execution_count": 25
        }
      ],
      "source": [
        "x = np.arange(1,10)\n",
        "\n",
        "x[(x > 3) & (x < 8)] *= -1\n",
        "\n",
        "x"
      ]
    },
    {
      "cell_type": "markdown",
      "metadata": {
        "id": "RprAHtRKyVQY"
      },
      "source": [
        "#### 26)  What is the output of the following script?\n",
        "\n",
        "\n",
        "```print(sum(range(5),-1))\n",
        "from numpy import *\n",
        "print(sum(range(5),-1))\n",
        "```"
      ]
    },
    {
      "cell_type": "code",
      "execution_count": null,
      "metadata": {
        "id": "VO3xROQ0yVQY",
        "outputId": "49736c27-d903-4c77-8c66-e17867db1145",
        "colab": {
          "base_uri": "https://localhost:8080/"
        }
      },
      "outputs": [
        {
          "output_type": "stream",
          "name": "stdout",
          "text": [
            "9\n",
            "10\n"
          ]
        }
      ],
      "source": [
        "print(sum(range(5),-1))\n",
        "from numpy import *\n",
        "print(sum(range(5),-1))\n",
        "\n"
      ]
    },
    {
      "cell_type": "markdown",
      "metadata": {
        "id": "gCoN04f3yVQb"
      },
      "source": [
        "27. Consider an integer vector Z, which of these expressions are legal? (★☆☆)\n",
        "\n",
        "```\n",
        "Z**Z\n",
        "2 << Z >> 2\n",
        "Z <- Z\n",
        "1j*Z\n",
        "Z/1/1\n",
        "Z<Z>Z\n",
        "```\n"
      ]
    },
    {
      "cell_type": "code",
      "execution_count": null,
      "metadata": {
        "id": "EIwERllkyVQb",
        "outputId": "5ec47598-511f-405b-d0a8-3bffc0c16219",
        "colab": {
          "base_uri": "https://localhost:8080/"
        }
      },
      "outputs": [
        {
          "output_type": "stream",
          "name": "stdout",
          "text": [
            "X ** X ==> [        1         4        27       256      3125     46656    823543\n",
            "  16777216 387420489]\n",
            "2 << X >> 2 ==> [  1   2   4   8  16  32  64 128 256]\n",
            "X < -X ==> [False False False False False False False False False]\n",
            "1j * X ==> [0.+1.j 0.+2.j 0.+3.j 0.+4.j 0.+5.j 0.+6.j 0.+7.j 0.+8.j 0.+9.j]\n",
            "X/1/1 ==> [1. 2. 3. 4. 5. 6. 7. 8. 9.]\n",
            "Not Legal\n"
          ]
        }
      ],
      "source": [
        "x = np.arange(1,10)\n",
        "\n",
        "try:\n",
        "    print(\"X ** X ==> {}\".format(x**x))\n",
        "    print(\"2 << X >> 2 ==> {}\".format(2<<x>>2))\n",
        "    print(\"X < -X ==> {}\".format(x<-x))\n",
        "    print(\"1j * X ==> {}\".format(1j*x))\n",
        "    print(\"X/1/1 ==> {}\".format(x/1/1))\n",
        "    print(\"X < X > X  ==> {}\".format(x<x>x))\n",
        "\n",
        "except:\n",
        "    print(\"Not Legal\")"
      ]
    },
    {
      "cell_type": "markdown",
      "metadata": {
        "id": "t9UL66VtyVQc"
      },
      "source": [
        "28. What are the result of the following expressions? (★☆☆)\n",
        "\n",
        "```\n",
        "np.array(0) / np.array(0)\n",
        "np.array(0) // np.array(0)\n",
        "np.array([np.nan]).astype(int).astype(float)\n",
        "\n",
        "```"
      ]
    },
    {
      "cell_type": "code",
      "execution_count": null,
      "metadata": {
        "id": "jyBIOaTSyVQc",
        "outputId": "2a781962-c1c0-4e79-e904-4f93411bd36c",
        "colab": {
          "base_uri": "https://localhost:8080/"
        }
      },
      "outputs": [
        {
          "output_type": "stream",
          "name": "stdout",
          "text": [
            "nan\n",
            "0\n",
            "[-9.22337204e+18]\n"
          ]
        },
        {
          "output_type": "stream",
          "name": "stderr",
          "text": [
            "/tmp/ipython-input-1422587819.py:1: RuntimeWarning: invalid value encountered in divide\n",
            "  print(np.array(0) / np.array(0))\n",
            "/tmp/ipython-input-1422587819.py:2: RuntimeWarning: divide by zero encountered in floor_divide\n",
            "  print(np.array(0) // np.array(0))\n",
            "/tmp/ipython-input-1422587819.py:3: RuntimeWarning: invalid value encountered in cast\n",
            "  print(np.array([np.nan]).astype(int).astype(float))\n"
          ]
        }
      ],
      "source": [
        "print(np.array(0) / np.array(0))\n",
        "print(np.array(0) // np.array(0))\n",
        "print(np.array([np.nan]).astype(int).astype(float))\n"
      ]
    },
    {
      "cell_type": "markdown",
      "metadata": {
        "id": "gue8jdCuyVQd"
      },
      "source": [
        "#### 29) How to round away from zero a float array ?"
      ]
    },
    {
      "cell_type": "code",
      "execution_count": null,
      "metadata": {
        "id": "AxCmhdwWyVQd",
        "outputId": "624f43d2-abcd-4d38-ecfb-bd30d232e42b",
        "colab": {
          "base_uri": "https://localhost:8080/"
        }
      },
      "outputs": [
        {
          "output_type": "stream",
          "name": "stdout",
          "text": [
            "[ -2.   5. -10.  -4.  -8.  -9.  -7.  -4.  -3.   1.]\n"
          ]
        }
      ],
      "source": [
        "np.random.seed(1)\n",
        "x = np.random.uniform(-10,+10,10)\n",
        "print(np.copysign(np.ceil(np.abs(x)), x))\n",
        "\n"
      ]
    },
    {
      "cell_type": "markdown",
      "metadata": {
        "id": "fL-MjjKyyVQd"
      },
      "source": [
        "#### 30) How to find common values between two arrays?"
      ]
    },
    {
      "cell_type": "code",
      "execution_count": null,
      "metadata": {
        "id": "o49UfFs1yVQe",
        "outputId": "5b197eae-a868-487f-b1fb-6edd99241bf2",
        "colab": {
          "base_uri": "https://localhost:8080/"
        }
      },
      "outputs": [
        {
          "output_type": "execute_result",
          "data": {
            "text/plain": [
              "array([1, 5, 6, 7, 9])"
            ]
          },
          "metadata": {},
          "execution_count": 30
        }
      ],
      "source": [
        "x = np.random.randint(0,10,20)\n",
        "y = np.random.randint(0,10,10)\n",
        "\n",
        "np.intersect1d(x,y)"
      ]
    },
    {
      "cell_type": "markdown",
      "metadata": {
        "id": "BznDOPZuyVQe"
      },
      "source": [
        "#### 31) How to ignore all numpy warnings (not recommended)?"
      ]
    },
    {
      "cell_type": "code",
      "execution_count": null,
      "metadata": {
        "id": "KyU-O-k-yVQe"
      },
      "outputs": [],
      "source": [
        "defaults = np.seterr(all=\"ignore\")\n",
        "Z = np.ones(1) / 0\n",
        "_ = np.seterr(**defaults)"
      ]
    },
    {
      "cell_type": "markdown",
      "metadata": {
        "id": "dkTj66mRyVQf"
      },
      "source": [
        "1) Is the following expressions true?\n",
        "```\n",
        "np.sqrt(-1) == np.emath.sqrt(-1)\n",
        "np.sqrt(-1) == np.emath.sqrt(-1)\n",
        "```"
      ]
    },
    {
      "cell_type": "code",
      "execution_count": null,
      "metadata": {
        "id": "F--sJaOPyVQf",
        "outputId": "9b757d55-fb4c-4077-e4e7-6bba264c87a5",
        "colab": {
          "base_uri": "https://localhost:8080/"
        }
      },
      "outputs": [
        {
          "output_type": "stream",
          "name": "stdout",
          "text": [
            "False\n",
            "False\n"
          ]
        },
        {
          "output_type": "stream",
          "name": "stderr",
          "text": [
            "/tmp/ipython-input-768763011.py:1: RuntimeWarning: invalid value encountered in sqrt\n",
            "  print(np.sqrt(-1) == np.emath.sqrt(-1))\n",
            "/tmp/ipython-input-768763011.py:2: RuntimeWarning: invalid value encountered in sqrt\n",
            "  print(np.sqrt(-1) == np.emath.sqrt(-1))\n"
          ]
        }
      ],
      "source": [
        "print(np.sqrt(-1) == np.emath.sqrt(-1))\n",
        "print(np.sqrt(-1) == np.emath.sqrt(-1))\n"
      ]
    },
    {
      "cell_type": "markdown",
      "metadata": {
        "id": "XtZlouF9yVQf"
      },
      "source": [
        "#### 33) How to get the dates of yesterday, today and tomorrow?"
      ]
    },
    {
      "cell_type": "code",
      "execution_count": null,
      "metadata": {
        "id": "JdiesJMAyVQg",
        "outputId": "c4add57d-7953-4bd0-e4bb-24f5312bb830",
        "colab": {
          "base_uri": "https://localhost:8080/"
        }
      },
      "outputs": [
        {
          "output_type": "stream",
          "name": "stdout",
          "text": [
            "Today's date ==> 2025-09-14\n",
            "Yesterday's date ==> 2025-09-13\n",
            "Tomorrows's date ==> 2025-09-15\n"
          ]
        }
      ],
      "source": [
        "print(\"Today's date ==> {}\".format(np.datetime64('Today')))\n",
        "print(\"Yesterday's date ==> {}\".format(np.datetime64('Today') - np.timedelta64(1)))\n",
        "print(\"Tomorrows's date ==> {}\".format(np.datetime64('Today') + np.timedelta64(1)))"
      ]
    },
    {
      "cell_type": "code",
      "execution_count": null,
      "metadata": {
        "id": "kdD83iywyVQg"
      },
      "outputs": [],
      "source": []
    }
  ],
  "metadata": {
    "kernelspec": {
      "display_name": "base",
      "language": "python",
      "name": "python3"
    },
    "language_info": {
      "codemirror_mode": {
        "name": "ipython",
        "version": 3
      },
      "file_extension": ".py",
      "mimetype": "text/x-python",
      "name": "python",
      "nbconvert_exporter": "python",
      "pygments_lexer": "ipython3",
      "version": "3.8.20"
    },
    "colab": {
      "provenance": []
    }
  },
  "nbformat": 4,
  "nbformat_minor": 0
}