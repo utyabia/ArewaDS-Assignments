{
  "cells": [
    {
      "cell_type": "markdown",
      "id": "1de2186b",
      "metadata": {
        "id": "1de2186b"
      },
      "source": [
        "# Visualization of US-Pumpkins Dataset\n",
        "\n",
        "There are several different libraries that are available for data visualization. In this assignment, you will create some visualizations using the Pumpkin data with matplotlib and seaborn and determine Which libraries are easier to work with.\n",
        "\n",
        "## Prepare the Data\n",
        "\n",
        "Let's use Pandas to analyze and prepare this pumpkin data.\n",
        "\n",
        "First, import and preview the data."
      ]
    },
    {
      "cell_type": "code",
      "execution_count": null,
      "id": "27207fda",
      "metadata": {
        "id": "27207fda",
        "outputId": "a5554b36-7ebe-4649-84d8-825c903493e2"
      },
      "outputs": [
        {
          "data": {
            "text/html": [
              "<div>\n",
              "<style scoped>\n",
              "    .dataframe tbody tr th:only-of-type {\n",
              "        vertical-align: middle;\n",
              "    }\n",
              "\n",
              "    .dataframe tbody tr th {\n",
              "        vertical-align: top;\n",
              "    }\n",
              "\n",
              "    .dataframe thead th {\n",
              "        text-align: right;\n",
              "    }\n",
              "</style>\n",
              "<table border=\"1\" class=\"dataframe\">\n",
              "  <thead>\n",
              "    <tr style=\"text-align: right;\">\n",
              "      <th></th>\n",
              "      <th>City Name</th>\n",
              "      <th>Type</th>\n",
              "      <th>Package</th>\n",
              "      <th>Variety</th>\n",
              "      <th>Sub Variety</th>\n",
              "      <th>Grade</th>\n",
              "      <th>Date</th>\n",
              "      <th>Low Price</th>\n",
              "      <th>High Price</th>\n",
              "      <th>Mostly Low</th>\n",
              "      <th>...</th>\n",
              "      <th>Unit of Sale</th>\n",
              "      <th>Quality</th>\n",
              "      <th>Condition</th>\n",
              "      <th>Appearance</th>\n",
              "      <th>Storage</th>\n",
              "      <th>Crop</th>\n",
              "      <th>Repack</th>\n",
              "      <th>Trans Mode</th>\n",
              "      <th>Unnamed: 24</th>\n",
              "      <th>Unnamed: 25</th>\n",
              "    </tr>\n",
              "  </thead>\n",
              "  <tbody>\n",
              "    <tr>\n",
              "      <th>0</th>\n",
              "      <td>BALTIMORE</td>\n",
              "      <td>NaN</td>\n",
              "      <td>24 inch bins</td>\n",
              "      <td>NaN</td>\n",
              "      <td>NaN</td>\n",
              "      <td>NaN</td>\n",
              "      <td>4/29/17</td>\n",
              "      <td>270.0</td>\n",
              "      <td>280.0</td>\n",
              "      <td>270.0</td>\n",
              "      <td>...</td>\n",
              "      <td>NaN</td>\n",
              "      <td>NaN</td>\n",
              "      <td>NaN</td>\n",
              "      <td>NaN</td>\n",
              "      <td>NaN</td>\n",
              "      <td>NaN</td>\n",
              "      <td>E</td>\n",
              "      <td>NaN</td>\n",
              "      <td>NaN</td>\n",
              "      <td>NaN</td>\n",
              "    </tr>\n",
              "    <tr>\n",
              "      <th>1</th>\n",
              "      <td>BALTIMORE</td>\n",
              "      <td>NaN</td>\n",
              "      <td>24 inch bins</td>\n",
              "      <td>NaN</td>\n",
              "      <td>NaN</td>\n",
              "      <td>NaN</td>\n",
              "      <td>5/6/17</td>\n",
              "      <td>270.0</td>\n",
              "      <td>280.0</td>\n",
              "      <td>270.0</td>\n",
              "      <td>...</td>\n",
              "      <td>NaN</td>\n",
              "      <td>NaN</td>\n",
              "      <td>NaN</td>\n",
              "      <td>NaN</td>\n",
              "      <td>NaN</td>\n",
              "      <td>NaN</td>\n",
              "      <td>E</td>\n",
              "      <td>NaN</td>\n",
              "      <td>NaN</td>\n",
              "      <td>NaN</td>\n",
              "    </tr>\n",
              "    <tr>\n",
              "      <th>2</th>\n",
              "      <td>BALTIMORE</td>\n",
              "      <td>NaN</td>\n",
              "      <td>24 inch bins</td>\n",
              "      <td>HOWDEN TYPE</td>\n",
              "      <td>NaN</td>\n",
              "      <td>NaN</td>\n",
              "      <td>9/24/16</td>\n",
              "      <td>160.0</td>\n",
              "      <td>160.0</td>\n",
              "      <td>160.0</td>\n",
              "      <td>...</td>\n",
              "      <td>NaN</td>\n",
              "      <td>NaN</td>\n",
              "      <td>NaN</td>\n",
              "      <td>NaN</td>\n",
              "      <td>NaN</td>\n",
              "      <td>NaN</td>\n",
              "      <td>N</td>\n",
              "      <td>NaN</td>\n",
              "      <td>NaN</td>\n",
              "      <td>NaN</td>\n",
              "    </tr>\n",
              "    <tr>\n",
              "      <th>3</th>\n",
              "      <td>BALTIMORE</td>\n",
              "      <td>NaN</td>\n",
              "      <td>24 inch bins</td>\n",
              "      <td>HOWDEN TYPE</td>\n",
              "      <td>NaN</td>\n",
              "      <td>NaN</td>\n",
              "      <td>9/24/16</td>\n",
              "      <td>160.0</td>\n",
              "      <td>160.0</td>\n",
              "      <td>160.0</td>\n",
              "      <td>...</td>\n",
              "      <td>NaN</td>\n",
              "      <td>NaN</td>\n",
              "      <td>NaN</td>\n",
              "      <td>NaN</td>\n",
              "      <td>NaN</td>\n",
              "      <td>NaN</td>\n",
              "      <td>N</td>\n",
              "      <td>NaN</td>\n",
              "      <td>NaN</td>\n",
              "      <td>NaN</td>\n",
              "    </tr>\n",
              "    <tr>\n",
              "      <th>4</th>\n",
              "      <td>BALTIMORE</td>\n",
              "      <td>NaN</td>\n",
              "      <td>24 inch bins</td>\n",
              "      <td>HOWDEN TYPE</td>\n",
              "      <td>NaN</td>\n",
              "      <td>NaN</td>\n",
              "      <td>11/5/16</td>\n",
              "      <td>90.0</td>\n",
              "      <td>100.0</td>\n",
              "      <td>90.0</td>\n",
              "      <td>...</td>\n",
              "      <td>NaN</td>\n",
              "      <td>NaN</td>\n",
              "      <td>NaN</td>\n",
              "      <td>NaN</td>\n",
              "      <td>NaN</td>\n",
              "      <td>NaN</td>\n",
              "      <td>N</td>\n",
              "      <td>NaN</td>\n",
              "      <td>NaN</td>\n",
              "      <td>NaN</td>\n",
              "    </tr>\n",
              "  </tbody>\n",
              "</table>\n",
              "<p>5 rows × 26 columns</p>\n",
              "</div>"
            ],
            "text/plain": [
              "   City Name Type       Package      Variety Sub Variety  Grade     Date  \\\n",
              "0  BALTIMORE  NaN  24 inch bins          NaN         NaN    NaN  4/29/17   \n",
              "1  BALTIMORE  NaN  24 inch bins          NaN         NaN    NaN   5/6/17   \n",
              "2  BALTIMORE  NaN  24 inch bins  HOWDEN TYPE         NaN    NaN  9/24/16   \n",
              "3  BALTIMORE  NaN  24 inch bins  HOWDEN TYPE         NaN    NaN  9/24/16   \n",
              "4  BALTIMORE  NaN  24 inch bins  HOWDEN TYPE         NaN    NaN  11/5/16   \n",
              "\n",
              "   Low Price  High Price  Mostly Low  ...  Unit of Sale Quality Condition  \\\n",
              "0      270.0       280.0       270.0  ...           NaN     NaN       NaN   \n",
              "1      270.0       280.0       270.0  ...           NaN     NaN       NaN   \n",
              "2      160.0       160.0       160.0  ...           NaN     NaN       NaN   \n",
              "3      160.0       160.0       160.0  ...           NaN     NaN       NaN   \n",
              "4       90.0       100.0        90.0  ...           NaN     NaN       NaN   \n",
              "\n",
              "  Appearance Storage  Crop Repack  Trans Mode  Unnamed: 24  Unnamed: 25  \n",
              "0        NaN     NaN   NaN      E         NaN          NaN          NaN  \n",
              "1        NaN     NaN   NaN      E         NaN          NaN          NaN  \n",
              "2        NaN     NaN   NaN      N         NaN          NaN          NaN  \n",
              "3        NaN     NaN   NaN      N         NaN          NaN          NaN  \n",
              "4        NaN     NaN   NaN      N         NaN          NaN          NaN  \n",
              "\n",
              "[5 rows x 26 columns]"
            ]
          },
          "execution_count": 5,
          "metadata": {},
          "output_type": "execute_result"
        }
      ],
      "source": [
        "import pandas as pd\n",
        "\n",
        "pumpkins = pd.read_csv('../../../data/US-pumpkins.csv')\n",
        "\n",
        "pumpkins.head()"
      ]
    },
    {
      "cell_type": "code",
      "execution_count": null,
      "id": "ec08e3de",
      "metadata": {
        "id": "ec08e3de"
      },
      "outputs": [],
      "source": [
        "pumpkins = pumpkins[pumpkins['Package'].str.contains('bushel', case=True, regex=True)]"
      ]
    },
    {
      "cell_type": "markdown",
      "id": "4a0f65b6",
      "metadata": {
        "id": "4a0f65b6"
      },
      "source": [
        "Check the missing data."
      ]
    },
    {
      "cell_type": "code",
      "execution_count": null,
      "id": "26297b83",
      "metadata": {
        "id": "26297b83",
        "outputId": "e1738a7a-15df-42a7-c13e-35d0cd2b5fac"
      },
      "outputs": [
        {
          "data": {
            "text/plain": [
              "City Name            0\n",
              "Type               406\n",
              "Package              0\n",
              "Variety              0\n",
              "Sub Variety        167\n",
              "Grade              415\n",
              "Date                 0\n",
              "Low Price            0\n",
              "High Price           0\n",
              "Mostly Low          24\n",
              "Mostly High         24\n",
              "Origin               0\n",
              "Origin District    396\n",
              "Item Size          114\n",
              "Color              145\n",
              "Environment        415\n",
              "Unit of Sale       404\n",
              "Quality            415\n",
              "Condition          415\n",
              "Appearance         415\n",
              "Storage            415\n",
              "Crop               415\n",
              "Repack               0\n",
              "Trans Mode         415\n",
              "Unnamed: 24        415\n",
              "Unnamed: 25        391\n",
              "dtype: int64"
            ]
          },
          "execution_count": 7,
          "metadata": {},
          "output_type": "execute_result"
        }
      ],
      "source": [
        "pumpkins.isnull().sum()"
      ]
    },
    {
      "cell_type": "markdown",
      "id": "f9a80394",
      "metadata": {
        "id": "f9a80394"
      },
      "source": [
        "There is missing data, but maybe it won't matter for the task at hand.\n",
        "\n",
        "To make the dataframe easier to work with, drop columns with more than 5% missing data."
      ]
    },
    {
      "cell_type": "code",
      "execution_count": null,
      "id": "d5d7a967",
      "metadata": {
        "id": "d5d7a967",
        "outputId": "65b834c0-34ef-4707-db9e-3c4d3c5d42b7"
      },
      "outputs": [
        {
          "data": {
            "text/plain": [
              "City Name     0\n",
              "Package       0\n",
              "Variety       0\n",
              "Date          0\n",
              "Low Price     0\n",
              "High Price    0\n",
              "Origin        0\n",
              "Repack        0\n",
              "dtype: int64"
            ]
          },
          "execution_count": 8,
          "metadata": {},
          "output_type": "execute_result"
        }
      ],
      "source": [
        "pumpkins = pumpkins.dropna(axis=1, thresh=len(pumpkins) * 0.95)\n",
        "\n",
        "pumpkins.isnull().sum()"
      ]
    },
    {
      "cell_type": "markdown",
      "id": "ac91cc6b",
      "metadata": {
        "id": "ac91cc6b"
      },
      "source": [
        "Secondly, determine average price of pumpkin.\n",
        "\n",
        "Take the average of the `Low Price` and `High Price` columns to populate the new Price column, and convert the Date column to only show the month."
      ]
    },
    {
      "cell_type": "code",
      "execution_count": null,
      "id": "54dadc37",
      "metadata": {
        "id": "54dadc37",
        "outputId": "e60ddf87-4d9d-4dd2-a4ce-a42493a5413e"
      },
      "outputs": [
        {
          "data": {
            "text/html": [
              "<div>\n",
              "<style scoped>\n",
              "    .dataframe tbody tr th:only-of-type {\n",
              "        vertical-align: middle;\n",
              "    }\n",
              "\n",
              "    .dataframe tbody tr th {\n",
              "        vertical-align: top;\n",
              "    }\n",
              "\n",
              "    .dataframe thead th {\n",
              "        text-align: right;\n",
              "    }\n",
              "</style>\n",
              "<table border=\"1\" class=\"dataframe\">\n",
              "  <thead>\n",
              "    <tr style=\"text-align: right;\">\n",
              "      <th></th>\n",
              "      <th>Month</th>\n",
              "      <th>City Name</th>\n",
              "      <th>Package</th>\n",
              "      <th>Variety</th>\n",
              "      <th>Origin</th>\n",
              "      <th>Low Price</th>\n",
              "      <th>High Price</th>\n",
              "      <th>Repack</th>\n",
              "      <th>Price</th>\n",
              "    </tr>\n",
              "  </thead>\n",
              "  <tbody>\n",
              "    <tr>\n",
              "      <th>70</th>\n",
              "      <td>9</td>\n",
              "      <td>BALTIMORE</td>\n",
              "      <td>1 1/9 bushel cartons</td>\n",
              "      <td>PIE TYPE</td>\n",
              "      <td>DELAWARE</td>\n",
              "      <td>15.0</td>\n",
              "      <td>15.0</td>\n",
              "      <td>N</td>\n",
              "      <td>15.0</td>\n",
              "    </tr>\n",
              "    <tr>\n",
              "      <th>71</th>\n",
              "      <td>9</td>\n",
              "      <td>BALTIMORE</td>\n",
              "      <td>1 1/9 bushel cartons</td>\n",
              "      <td>PIE TYPE</td>\n",
              "      <td>DELAWARE</td>\n",
              "      <td>18.0</td>\n",
              "      <td>18.0</td>\n",
              "      <td>N</td>\n",
              "      <td>18.0</td>\n",
              "    </tr>\n",
              "    <tr>\n",
              "      <th>72</th>\n",
              "      <td>10</td>\n",
              "      <td>BALTIMORE</td>\n",
              "      <td>1 1/9 bushel cartons</td>\n",
              "      <td>PIE TYPE</td>\n",
              "      <td>DELAWARE</td>\n",
              "      <td>18.0</td>\n",
              "      <td>18.0</td>\n",
              "      <td>N</td>\n",
              "      <td>18.0</td>\n",
              "    </tr>\n",
              "    <tr>\n",
              "      <th>73</th>\n",
              "      <td>10</td>\n",
              "      <td>BALTIMORE</td>\n",
              "      <td>1 1/9 bushel cartons</td>\n",
              "      <td>PIE TYPE</td>\n",
              "      <td>OHIO</td>\n",
              "      <td>17.0</td>\n",
              "      <td>17.0</td>\n",
              "      <td>N</td>\n",
              "      <td>17.0</td>\n",
              "    </tr>\n",
              "    <tr>\n",
              "      <th>74</th>\n",
              "      <td>10</td>\n",
              "      <td>BALTIMORE</td>\n",
              "      <td>1 1/9 bushel cartons</td>\n",
              "      <td>PIE TYPE</td>\n",
              "      <td>DELAWARE</td>\n",
              "      <td>15.0</td>\n",
              "      <td>15.0</td>\n",
              "      <td>N</td>\n",
              "      <td>15.0</td>\n",
              "    </tr>\n",
              "  </tbody>\n",
              "</table>\n",
              "</div>"
            ],
            "text/plain": [
              "    Month  City Name               Package   Variety    Origin  Low Price  \\\n",
              "70      9  BALTIMORE  1 1/9 bushel cartons  PIE TYPE  DELAWARE       15.0   \n",
              "71      9  BALTIMORE  1 1/9 bushel cartons  PIE TYPE  DELAWARE       18.0   \n",
              "72     10  BALTIMORE  1 1/9 bushel cartons  PIE TYPE  DELAWARE       18.0   \n",
              "73     10  BALTIMORE  1 1/9 bushel cartons  PIE TYPE      OHIO       17.0   \n",
              "74     10  BALTIMORE  1 1/9 bushel cartons  PIE TYPE  DELAWARE       15.0   \n",
              "\n",
              "    High Price Repack  Price  \n",
              "70        15.0      N   15.0  \n",
              "71        18.0      N   18.0  \n",
              "72        18.0      N   18.0  \n",
              "73        17.0      N   17.0  \n",
              "74        15.0      N   15.0  "
            ]
          },
          "execution_count": 9,
          "metadata": {},
          "output_type": "execute_result"
        }
      ],
      "source": [
        "price = (pumpkins['Low Price'] + pumpkins['High Price']) / 2\n",
        "\n",
        "month = pd.DatetimeIndex(pumpkins['Date']).month\n",
        "\n",
        "new_pumpkins = pd.DataFrame({'Month': month,\n",
        "                             'City Name': pumpkins['City Name'],\n",
        "                             'Package': pumpkins['Package'],\n",
        "                             'Variety': pumpkins['Variety'],\n",
        "                             'Origin': pumpkins['Origin'],\n",
        "                             'Low Price': pumpkins['Low Price'],\n",
        "                             'High Price': pumpkins['High Price'],\n",
        "                             'Repack': pumpkins['Repack'],\n",
        "                             'Price': price})\n",
        "\n",
        "new_pumpkins.head()"
      ]
    },
    {
      "cell_type": "markdown",
      "id": "72acd186",
      "metadata": {
        "id": "72acd186"
      },
      "source": [
        "But there's something odd here\n",
        "\n",
        "If you look at the `Package` column, pumpkins are sold in many different configurations. Some are sold in '1 1/9 bushel' measures, and some in '1/2 bushel' measures, some per pumpkin, some per pound, and some in big boxes with varying widths.\n",
        "\n",
        "Digging into the original data, it's interesting that anything with `Unit of Sale` equalling 'EACH' or 'PER BIN' also have the `Package` type per inch, per bin, or 'each'. Pumpkins seem to be very hard to weigh consistently, so let's filter them by selecting only pumpkins with the string 'bushel' in their `Package` column.\n",
        "\n",
        "Add a filter at the top of the file, under the initial .csv import.\n",
        "\n",
        "If you print the data now, you can see that you are only getting the 415 or so rows of data containing pumpkins by the bushel."
      ]
    },
    {
      "cell_type": "code",
      "execution_count": null,
      "id": "25e8c90d",
      "metadata": {
        "id": "25e8c90d",
        "outputId": "4e182c03-6357-437b-9f1c-5837f549b135"
      },
      "outputs": [
        {
          "data": {
            "text/html": [
              "<div>\n",
              "<style scoped>\n",
              "    .dataframe tbody tr th:only-of-type {\n",
              "        vertical-align: middle;\n",
              "    }\n",
              "\n",
              "    .dataframe tbody tr th {\n",
              "        vertical-align: top;\n",
              "    }\n",
              "\n",
              "    .dataframe thead th {\n",
              "        text-align: right;\n",
              "    }\n",
              "</style>\n",
              "<table border=\"1\" class=\"dataframe\">\n",
              "  <thead>\n",
              "    <tr style=\"text-align: right;\">\n",
              "      <th></th>\n",
              "      <th>Month</th>\n",
              "      <th>City Name</th>\n",
              "      <th>Package</th>\n",
              "      <th>Variety</th>\n",
              "      <th>Origin</th>\n",
              "      <th>Low Price</th>\n",
              "      <th>High Price</th>\n",
              "      <th>Repack</th>\n",
              "      <th>Price</th>\n",
              "    </tr>\n",
              "  </thead>\n",
              "  <tbody>\n",
              "    <tr>\n",
              "      <th>70</th>\n",
              "      <td>9</td>\n",
              "      <td>BALTIMORE</td>\n",
              "      <td>1 1/9 bushel cartons</td>\n",
              "      <td>PIE TYPE</td>\n",
              "      <td>DELAWARE</td>\n",
              "      <td>15.00</td>\n",
              "      <td>15.0</td>\n",
              "      <td>N</td>\n",
              "      <td>15.000</td>\n",
              "    </tr>\n",
              "    <tr>\n",
              "      <th>71</th>\n",
              "      <td>9</td>\n",
              "      <td>BALTIMORE</td>\n",
              "      <td>1 1/9 bushel cartons</td>\n",
              "      <td>PIE TYPE</td>\n",
              "      <td>DELAWARE</td>\n",
              "      <td>18.00</td>\n",
              "      <td>18.0</td>\n",
              "      <td>N</td>\n",
              "      <td>18.000</td>\n",
              "    </tr>\n",
              "    <tr>\n",
              "      <th>72</th>\n",
              "      <td>10</td>\n",
              "      <td>BALTIMORE</td>\n",
              "      <td>1 1/9 bushel cartons</td>\n",
              "      <td>PIE TYPE</td>\n",
              "      <td>DELAWARE</td>\n",
              "      <td>18.00</td>\n",
              "      <td>18.0</td>\n",
              "      <td>N</td>\n",
              "      <td>18.000</td>\n",
              "    </tr>\n",
              "    <tr>\n",
              "      <th>73</th>\n",
              "      <td>10</td>\n",
              "      <td>BALTIMORE</td>\n",
              "      <td>1 1/9 bushel cartons</td>\n",
              "      <td>PIE TYPE</td>\n",
              "      <td>OHIO</td>\n",
              "      <td>17.00</td>\n",
              "      <td>17.0</td>\n",
              "      <td>N</td>\n",
              "      <td>17.000</td>\n",
              "    </tr>\n",
              "    <tr>\n",
              "      <th>74</th>\n",
              "      <td>10</td>\n",
              "      <td>BALTIMORE</td>\n",
              "      <td>1 1/9 bushel cartons</td>\n",
              "      <td>PIE TYPE</td>\n",
              "      <td>DELAWARE</td>\n",
              "      <td>15.00</td>\n",
              "      <td>15.0</td>\n",
              "      <td>N</td>\n",
              "      <td>15.000</td>\n",
              "    </tr>\n",
              "    <tr>\n",
              "      <th>...</th>\n",
              "      <td>...</td>\n",
              "      <td>...</td>\n",
              "      <td>...</td>\n",
              "      <td>...</td>\n",
              "      <td>...</td>\n",
              "      <td>...</td>\n",
              "      <td>...</td>\n",
              "      <td>...</td>\n",
              "      <td>...</td>\n",
              "    </tr>\n",
              "    <tr>\n",
              "      <th>1738</th>\n",
              "      <td>9</td>\n",
              "      <td>ST. LOUIS</td>\n",
              "      <td>1/2 bushel cartons</td>\n",
              "      <td>MINIATURE</td>\n",
              "      <td>CANADA</td>\n",
              "      <td>15.00</td>\n",
              "      <td>15.0</td>\n",
              "      <td>N</td>\n",
              "      <td>15.000</td>\n",
              "    </tr>\n",
              "    <tr>\n",
              "      <th>1739</th>\n",
              "      <td>9</td>\n",
              "      <td>ST. LOUIS</td>\n",
              "      <td>1/2 bushel cartons</td>\n",
              "      <td>MINIATURE</td>\n",
              "      <td>ILLINOIS</td>\n",
              "      <td>13.75</td>\n",
              "      <td>15.0</td>\n",
              "      <td>N</td>\n",
              "      <td>14.375</td>\n",
              "    </tr>\n",
              "    <tr>\n",
              "      <th>1740</th>\n",
              "      <td>9</td>\n",
              "      <td>ST. LOUIS</td>\n",
              "      <td>1/2 bushel cartons</td>\n",
              "      <td>MINIATURE</td>\n",
              "      <td>ILLINOIS</td>\n",
              "      <td>10.75</td>\n",
              "      <td>15.0</td>\n",
              "      <td>N</td>\n",
              "      <td>12.875</td>\n",
              "    </tr>\n",
              "    <tr>\n",
              "      <th>1741</th>\n",
              "      <td>9</td>\n",
              "      <td>ST. LOUIS</td>\n",
              "      <td>1/2 bushel cartons</td>\n",
              "      <td>MINIATURE</td>\n",
              "      <td>MICHIGAN</td>\n",
              "      <td>12.00</td>\n",
              "      <td>12.0</td>\n",
              "      <td>N</td>\n",
              "      <td>12.000</td>\n",
              "    </tr>\n",
              "    <tr>\n",
              "      <th>1742</th>\n",
              "      <td>9</td>\n",
              "      <td>ST. LOUIS</td>\n",
              "      <td>1/2 bushel cartons</td>\n",
              "      <td>MINIATURE</td>\n",
              "      <td>MICHIGAN</td>\n",
              "      <td>12.00</td>\n",
              "      <td>12.0</td>\n",
              "      <td>N</td>\n",
              "      <td>12.000</td>\n",
              "    </tr>\n",
              "  </tbody>\n",
              "</table>\n",
              "<p>415 rows × 9 columns</p>\n",
              "</div>"
            ],
            "text/plain": [
              "      Month  City Name               Package    Variety    Origin  Low Price  \\\n",
              "70        9  BALTIMORE  1 1/9 bushel cartons   PIE TYPE  DELAWARE      15.00   \n",
              "71        9  BALTIMORE  1 1/9 bushel cartons   PIE TYPE  DELAWARE      18.00   \n",
              "72       10  BALTIMORE  1 1/9 bushel cartons   PIE TYPE  DELAWARE      18.00   \n",
              "73       10  BALTIMORE  1 1/9 bushel cartons   PIE TYPE      OHIO      17.00   \n",
              "74       10  BALTIMORE  1 1/9 bushel cartons   PIE TYPE  DELAWARE      15.00   \n",
              "...     ...        ...                   ...        ...       ...        ...   \n",
              "1738      9  ST. LOUIS    1/2 bushel cartons  MINIATURE    CANADA      15.00   \n",
              "1739      9  ST. LOUIS    1/2 bushel cartons  MINIATURE  ILLINOIS      13.75   \n",
              "1740      9  ST. LOUIS    1/2 bushel cartons  MINIATURE  ILLINOIS      10.75   \n",
              "1741      9  ST. LOUIS    1/2 bushel cartons  MINIATURE  MICHIGAN      12.00   \n",
              "1742      9  ST. LOUIS    1/2 bushel cartons  MINIATURE  MICHIGAN      12.00   \n",
              "\n",
              "      High Price Repack   Price  \n",
              "70          15.0      N  15.000  \n",
              "71          18.0      N  18.000  \n",
              "72          18.0      N  18.000  \n",
              "73          17.0      N  17.000  \n",
              "74          15.0      N  15.000  \n",
              "...          ...    ...     ...  \n",
              "1738        15.0      N  15.000  \n",
              "1739        15.0      N  14.375  \n",
              "1740        15.0      N  12.875  \n",
              "1741        12.0      N  12.000  \n",
              "1742        12.0      N  12.000  \n",
              "\n",
              "[415 rows x 9 columns]"
            ]
          },
          "execution_count": 10,
          "metadata": {},
          "output_type": "execute_result"
        }
      ],
      "source": [
        "new_pumpkins"
      ]
    },
    {
      "cell_type": "markdown",
      "id": "f9eaff87",
      "metadata": {
        "id": "f9eaff87"
      },
      "source": [
        "But wait! There's one more thing to do\n",
        "\n",
        "The bushel amount varies per row. you need to normalize the pricing so that you show the pricing per bushel, so do some math to standardize it."
      ]
    },
    {
      "cell_type": "code",
      "execution_count": null,
      "id": "eba5f08e",
      "metadata": {
        "id": "eba5f08e"
      },
      "outputs": [],
      "source": [
        "new_pumpkins.loc[new_pumpkins['Package'].str.contains('1 1/9'), 'Price'] = price/(1 + 1/9)\n",
        "\n",
        "new_pumpkins.loc[new_pumpkins['Package'].str.contains('1/2'), 'Price'] = price/(1/2)"
      ]
    },
    {
      "cell_type": "markdown",
      "id": "95bf681b",
      "metadata": {
        "id": "95bf681b"
      },
      "source": [
        "Now, you are ready to visuaize the data."
      ]
    },
    {
      "cell_type": "markdown",
      "id": "171b9d11",
      "metadata": {
        "id": "171b9d11"
      },
      "source": [
        "## Visualize the Data"
      ]
    },
    {
      "cell_type": "markdown",
      "id": "7ff6a50e",
      "metadata": {
        "id": "7ff6a50e"
      },
      "source": [
        "The goal of the visualization is to:\n",
        "\n",
        "1. Find which variables can be used to predict the average price of pumpkin.\n",
        "2. Compare the Matplotlib and Seaborn libraries.\n",
        "\n",
        "First, import the libraries."
      ]
    },
    {
      "cell_type": "code",
      "execution_count": null,
      "id": "096f090c",
      "metadata": {
        "id": "096f090c"
      },
      "outputs": [],
      "source": [
        "import matplotlib.pyplot as plt\n",
        "import seaborn as sns"
      ]
    },
    {
      "cell_type": "markdown",
      "id": "60cd5279",
      "metadata": {
        "id": "60cd5279"
      },
      "source": [
        "### Matplotlib - Boxplot of Price by Origin"
      ]
    },
    {
      "cell_type": "code",
      "execution_count": null,
      "id": "d3b15330",
      "metadata": {
        "id": "d3b15330",
        "outputId": "12a39122-625e-4b9a-f0f2-2caddbb86db4"
      },
      "outputs": [
        {
          "data": {
            "image/png": "[encoded data removed]",
            "text/plain": [
              "<Figure size 640x480 with 1 Axes>"
            ]
          },
          "metadata": {},
          "output_type": "display_data"
        }
      ],
      "source": [
        "new_pumpkins.boxplot(column='Price', by='Variety', grid=False, rot=45)\n",
        "plt.title('Pumpkin Price Distribution by Variety')\n",
        "plt.suptitle('')\n",
        "plt.ylabel('Price')\n",
        "plt.show()"
      ]
    },
    {
      "cell_type": "markdown",
      "id": "e4373e09",
      "metadata": {
        "id": "e4373e09"
      },
      "source": [
        "The boxplot shows that the median price and price distribution vary significantly across pumpkin varieties. This suggests that Variety is a meaningful predictor of Price, as different varieties are associated with distinct price levels and distributions."
      ]
    },
    {
      "cell_type": "markdown",
      "id": "01521f08",
      "metadata": {
        "id": "01521f08"
      },
      "source": [
        "### Seaborn - Heatmap of Feature Correlations"
      ]
    },
    {
      "cell_type": "code",
      "execution_count": null,
      "id": "a794231d",
      "metadata": {
        "id": "a794231d",
        "outputId": "38858d9e-b5ca-4f57-e968-27fe8883350a"
      },
      "outputs": [
        {
          "data": {
            "image/png": "[encoded data removed]",
            "text/plain": [
              "<Figure size 640x480 with 2 Axes>"
            ]
          },
          "metadata": {},
          "output_type": "display_data"
        }
      ],
      "source": [
        "corr = new_pumpkins[['Month','Low Price','High Price','Price']].corr()\n",
        "sns.heatmap(corr, annot=True, cmap='coolwarm')\n",
        "plt.title('Correlation Heatmap')\n",
        "plt.show()"
      ]
    },
    {
      "cell_type": "markdown",
      "id": "50f935a2",
      "metadata": {
        "id": "50f935a2"
      },
      "source": [
        "Low Price and High Price are moderately correlated with Price, indicating they can help predict Price. Month has a weak correlation, so it is less useful for prediction."
      ]
    },
    {
      "cell_type": "markdown",
      "id": "a71420ac",
      "metadata": {
        "id": "a71420ac"
      },
      "source": [
        "### Conclusion\n",
        "\n",
        "Matplotlib provides flexibility and control over plot details, but requires more code for customization, for example setting titles, labels, and rotation. Seaborn offers simpler syntax for statistical plots and attractive default styles, making it easier and faster to create complex visualizations like heatmaps.\n",
        "\n",
        "Overall, Seaborn is generally easier to work with for statistical visualizations due to its concise syntax and built-in aesthetics."
      ]
    }
  ],
  "metadata": {
    "kernelspec": {
      "display_name": "base",
      "language": "python",
      "name": "python3"
    },
    "language_info": {
      "codemirror_mode": {
        "name": "ipython",
        "version": 3
      },
      "file_extension": ".py",
      "mimetype": "text/x-python",
      "name": "python",
      "nbconvert_exporter": "python",
      "pygments_lexer": "ipython3",
      "version": "3.8.20"
    },
    "colab": {
      "provenance": []
    }
  },
  "nbformat": 4,
  "nbformat_minor": 5
}